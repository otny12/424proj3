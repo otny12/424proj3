{
 "cells": [
  {
   "cell_type": "code",
   "execution_count": 1,
   "id": "5b6a8ea8",
   "metadata": {},
   "outputs": [
    {
     "name": "stdout",
     "output_type": "stream",
     "text": [
      "(16477365, 23)\n"
     ]
    }
   ],
   "source": [
    "import pandas as pd\n",
    "\n",
    "df = pd.read_csv(\"Taxi_Trips_-_2019.tsv\", sep=\"\\t\")\n",
    "print(df.shape)"
   ]
  },
  {
   "cell_type": "code",
   "execution_count": 2,
   "id": "f46e0190",
   "metadata": {},
   "outputs": [],
   "source": [
    "df1 = df.drop(columns=['Trip ID', 'Taxi ID', 'Pickup Census Tract','Dropoff Census Tract',\n",
    "                        'Fare', 'Tips', 'Tolls', 'Extras','Trip Total', 'Payment Type',\n",
    "                       'Dropoff Centroid  Location', 'Pickup Centroid Location',\n",
    "                       'Trip End Timestamp','Pickup Centroid Latitude', 'Pickup Centroid Longitude',\n",
    "                      'Dropoff Centroid Latitude', 'Dropoff Centroid Longitude'])"
   ]
  },
  {
   "cell_type": "code",
   "execution_count": 3,
   "id": "24f9792c",
   "metadata": {
    "scrolled": false
   },
   "outputs": [
    {
     "name": "stdout",
     "output_type": "stream",
     "text": [
      "Index(['Trip Start Timestamp', 'Trip Seconds', 'Trip Miles',\n",
      "       'Pickup Community Area', 'Dropoff Community Area', 'Company'],\n",
      "      dtype='object')\n"
     ]
    }
   ],
   "source": [
    "print(df1.columns)"
   ]
  },
  {
   "cell_type": "markdown",
   "id": "3b2385b3",
   "metadata": {},
   "source": [
    "## Remove all trips less than 0.5 miles, and more than 100 miles, and less than 60 seconds, and greater than 5 hours"
   ]
  },
  {
   "cell_type": "code",
   "execution_count": 4,
   "id": "fe17ef3f",
   "metadata": {},
   "outputs": [],
   "source": [
    "df1 = df1[df1['Trip Miles'] >= 0.5]\n",
    "df1 = df1[df1['Trip Miles'] <= 100]\n",
    "df1 = df1[df1['Trip Seconds'] >= 60]\n",
    "df1 = df1[df1['Trip Seconds'] <= 18000]"
   ]
  },
  {
   "cell_type": "markdown",
   "id": "0e7c58fe",
   "metadata": {},
   "source": [
    "## Remove areas outside chicago which are marked by NaN"
   ]
  },
  {
   "cell_type": "code",
   "execution_count": 5,
   "id": "5efba346",
   "metadata": {
    "scrolled": true
   },
   "outputs": [],
   "source": [
    "df1 = df1.dropna(subset=['Pickup Community Area', 'Dropoff Community Area'])"
   ]
  },
  {
   "cell_type": "markdown",
   "id": "290f0c99",
   "metadata": {},
   "source": [
    "## Reduce time accuracy to hourly"
   ]
  },
  {
   "cell_type": "code",
   "execution_count": 6,
   "id": "8c7acaee",
   "metadata": {},
   "outputs": [],
   "source": [
    "df1['Trip Start Timestamp'] = pd.to_datetime(df1['Trip Start Timestamp'])\n",
    "df1['Trip Start Timestamp'] = df1['Trip Start Timestamp'].dt.floor('h')"
   ]
  },
  {
   "cell_type": "markdown",
   "id": "57a682a7",
   "metadata": {},
   "source": [
    "## remove repeats by itemizing to multiple tables"
   ]
  },
  {
   "cell_type": "code",
   "execution_count": 7,
   "id": "0ab4ce28",
   "metadata": {},
   "outputs": [],
   "source": [
    "codes, uniques = pd.factorize(df1['Company'])\n",
    "df1['Company'] = codes"
   ]
  },
  {
   "cell_type": "code",
   "execution_count": 8,
   "id": "e6f912dd",
   "metadata": {},
   "outputs": [],
   "source": [
    "uniques = uniques.to_series()\n",
    "uniques.to_csv('Companies.tsv',index=True, sep='\\t')\n"
   ]
  },
  {
   "cell_type": "code",
   "execution_count": 9,
   "id": "98178313",
   "metadata": {},
   "outputs": [],
   "source": [
    "df1['Trip Start Day'] = df1['Trip Start Timestamp'].dt.day\n",
    "df1['Trip Start Month'] = df1['Trip Start Timestamp'].dt.month\n",
    "df1['Trip Start Hour'] = df1['Trip Start Timestamp'].dt.hour\n"
   ]
  },
  {
   "cell_type": "code",
   "execution_count": 10,
   "id": "e58a407e",
   "metadata": {},
   "outputs": [
    {
     "data": {
      "text/html": [
       "<div>\n",
       "<style scoped>\n",
       "    .dataframe tbody tr th:only-of-type {\n",
       "        vertical-align: middle;\n",
       "    }\n",
       "\n",
       "    .dataframe tbody tr th {\n",
       "        vertical-align: top;\n",
       "    }\n",
       "\n",
       "    .dataframe thead th {\n",
       "        text-align: right;\n",
       "    }\n",
       "</style>\n",
       "<table border=\"1\" class=\"dataframe\">\n",
       "  <thead>\n",
       "    <tr style=\"text-align: right;\">\n",
       "      <th></th>\n",
       "      <th>Trip Seconds</th>\n",
       "      <th>Trip Miles</th>\n",
       "      <th>Pickup Community Area</th>\n",
       "      <th>Dropoff Community Area</th>\n",
       "      <th>Company</th>\n",
       "      <th>Trip Start Day</th>\n",
       "      <th>Trip Start Month</th>\n",
       "      <th>Trip Start Hour</th>\n",
       "    </tr>\n",
       "  </thead>\n",
       "  <tbody>\n",
       "    <tr>\n",
       "      <th>18</th>\n",
       "      <td>1260.0</td>\n",
       "      <td>0.60</td>\n",
       "      <td>77.0</td>\n",
       "      <td>28.0</td>\n",
       "      <td>0</td>\n",
       "      <td>1</td>\n",
       "      <td>1</td>\n",
       "      <td>0</td>\n",
       "    </tr>\n",
       "    <tr>\n",
       "      <th>20</th>\n",
       "      <td>360.0</td>\n",
       "      <td>0.80</td>\n",
       "      <td>8.0</td>\n",
       "      <td>8.0</td>\n",
       "      <td>1</td>\n",
       "      <td>1</td>\n",
       "      <td>1</td>\n",
       "      <td>0</td>\n",
       "    </tr>\n",
       "    <tr>\n",
       "      <th>22</th>\n",
       "      <td>360.0</td>\n",
       "      <td>1.00</td>\n",
       "      <td>8.0</td>\n",
       "      <td>8.0</td>\n",
       "      <td>1</td>\n",
       "      <td>1</td>\n",
       "      <td>1</td>\n",
       "      <td>0</td>\n",
       "    </tr>\n",
       "    <tr>\n",
       "      <th>23</th>\n",
       "      <td>420.0</td>\n",
       "      <td>0.80</td>\n",
       "      <td>8.0</td>\n",
       "      <td>8.0</td>\n",
       "      <td>2</td>\n",
       "      <td>1</td>\n",
       "      <td>1</td>\n",
       "      <td>0</td>\n",
       "    </tr>\n",
       "    <tr>\n",
       "      <th>24</th>\n",
       "      <td>180.0</td>\n",
       "      <td>0.70</td>\n",
       "      <td>77.0</td>\n",
       "      <td>4.0</td>\n",
       "      <td>1</td>\n",
       "      <td>1</td>\n",
       "      <td>1</td>\n",
       "      <td>0</td>\n",
       "    </tr>\n",
       "    <tr>\n",
       "      <th>...</th>\n",
       "      <td>...</td>\n",
       "      <td>...</td>\n",
       "      <td>...</td>\n",
       "      <td>...</td>\n",
       "      <td>...</td>\n",
       "      <td>...</td>\n",
       "      <td>...</td>\n",
       "      <td>...</td>\n",
       "    </tr>\n",
       "    <tr>\n",
       "      <th>16477360</th>\n",
       "      <td>1639.0</td>\n",
       "      <td>4.10</td>\n",
       "      <td>7.0</td>\n",
       "      <td>32.0</td>\n",
       "      <td>16</td>\n",
       "      <td>31</td>\n",
       "      <td>12</td>\n",
       "      <td>23</td>\n",
       "    </tr>\n",
       "    <tr>\n",
       "      <th>16477361</th>\n",
       "      <td>2040.0</td>\n",
       "      <td>18.30</td>\n",
       "      <td>76.0</td>\n",
       "      <td>8.0</td>\n",
       "      <td>36</td>\n",
       "      <td>31</td>\n",
       "      <td>12</td>\n",
       "      <td>23</td>\n",
       "    </tr>\n",
       "    <tr>\n",
       "      <th>16477362</th>\n",
       "      <td>4271.0</td>\n",
       "      <td>17.81</td>\n",
       "      <td>56.0</td>\n",
       "      <td>8.0</td>\n",
       "      <td>10</td>\n",
       "      <td>31</td>\n",
       "      <td>12</td>\n",
       "      <td>23</td>\n",
       "    </tr>\n",
       "    <tr>\n",
       "      <th>16477363</th>\n",
       "      <td>600.0</td>\n",
       "      <td>1.30</td>\n",
       "      <td>32.0</td>\n",
       "      <td>8.0</td>\n",
       "      <td>4</td>\n",
       "      <td>31</td>\n",
       "      <td>12</td>\n",
       "      <td>23</td>\n",
       "    </tr>\n",
       "    <tr>\n",
       "      <th>16477364</th>\n",
       "      <td>1303.0</td>\n",
       "      <td>2.90</td>\n",
       "      <td>8.0</td>\n",
       "      <td>32.0</td>\n",
       "      <td>10</td>\n",
       "      <td>31</td>\n",
       "      <td>12</td>\n",
       "      <td>23</td>\n",
       "    </tr>\n",
       "  </tbody>\n",
       "</table>\n",
       "<p>11398006 rows × 8 columns</p>\n",
       "</div>"
      ],
      "text/plain": [
       "          Trip Seconds  Trip Miles  Pickup Community Area  \\\n",
       "18              1260.0        0.60                   77.0   \n",
       "20               360.0        0.80                    8.0   \n",
       "22               360.0        1.00                    8.0   \n",
       "23               420.0        0.80                    8.0   \n",
       "24               180.0        0.70                   77.0   \n",
       "...                ...         ...                    ...   \n",
       "16477360        1639.0        4.10                    7.0   \n",
       "16477361        2040.0       18.30                   76.0   \n",
       "16477362        4271.0       17.81                   56.0   \n",
       "16477363         600.0        1.30                   32.0   \n",
       "16477364        1303.0        2.90                    8.0   \n",
       "\n",
       "          Dropoff Community Area  Company  Trip Start Day  Trip Start Month  \\\n",
       "18                          28.0        0               1                 1   \n",
       "20                           8.0        1               1                 1   \n",
       "22                           8.0        1               1                 1   \n",
       "23                           8.0        2               1                 1   \n",
       "24                           4.0        1               1                 1   \n",
       "...                          ...      ...             ...               ...   \n",
       "16477360                    32.0       16              31                12   \n",
       "16477361                     8.0       36              31                12   \n",
       "16477362                     8.0       10              31                12   \n",
       "16477363                     8.0        4              31                12   \n",
       "16477364                    32.0       10              31                12   \n",
       "\n",
       "          Trip Start Hour  \n",
       "18                      0  \n",
       "20                      0  \n",
       "22                      0  \n",
       "23                      0  \n",
       "24                      0  \n",
       "...                   ...  \n",
       "16477360               23  \n",
       "16477361               23  \n",
       "16477362               23  \n",
       "16477363               23  \n",
       "16477364               23  \n",
       "\n",
       "[11398006 rows x 8 columns]"
      ]
     },
     "execution_count": 10,
     "metadata": {},
     "output_type": "execute_result"
    }
   ],
   "source": [
    "df1 = df1.drop(['Trip Start Timestamp'], axis=1)\n",
    "df1"
   ]
  },
  {
   "cell_type": "code",
   "execution_count": 16,
   "id": "989d439c",
   "metadata": {},
   "outputs": [],
   "source": [
    "#df1.to_csv('Datafile.tsv',index=False, sep='\\t')\n",
    "for x in range(0,len(uniques)):\n",
    "    df1[df1['Company'] == x].to_csv(str(x)+'.tsv',index=False, sep='\\t')"
   ]
  },
  {
   "cell_type": "code",
   "execution_count": 15,
   "id": "812eebd8",
   "metadata": {},
   "outputs": [
    {
     "data": {
      "text/plain": [
       "55"
      ]
     },
     "execution_count": 15,
     "metadata": {},
     "output_type": "execute_result"
    }
   ],
   "source": [
    "len(uniques)"
   ]
  }
 ],
 "metadata": {
  "kernelspec": {
   "display_name": "Python 3 (ipykernel)",
   "language": "python",
   "name": "python3"
  },
  "language_info": {
   "codemirror_mode": {
    "name": "ipython",
    "version": 3
   },
   "file_extension": ".py",
   "mimetype": "text/x-python",
   "name": "python",
   "nbconvert_exporter": "python",
   "pygments_lexer": "ipython3",
   "version": "3.9.7"
  }
 },
 "nbformat": 4,
 "nbformat_minor": 5
}
